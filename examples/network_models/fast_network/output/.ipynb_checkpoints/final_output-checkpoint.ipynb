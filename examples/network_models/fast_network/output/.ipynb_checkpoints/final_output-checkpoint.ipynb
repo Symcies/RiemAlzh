{
 "cells": [
  {
   "cell_type": "markdown",
   "metadata": {},
   "source": [
    "# Importing packages"
   ]
  },
  {
   "cell_type": "code",
   "execution_count": 1,
   "metadata": {
    "collapsed": false
   },
   "outputs": [
    {
     "name": "stderr",
     "output_type": "stream",
     "text": [
      "/Users/igor.koval/anaconda/lib/python2.7/site-packages/matplotlib/__init__.py:1318: UserWarning:  This call to matplotlib.use() has no effect\n",
      "because the backend has already been chosen;\n",
      "matplotlib.use() must be called *before* pylab, matplotlib.pyplot,\n",
      "or matplotlib.backends is imported for the first time.\n",
      "\n",
      "  warnings.warn(_use_error_msg)\n"
     ]
    }
   ],
   "source": [
    "from os import path\n",
    "import sys\n",
    "\n",
    "sys.path.append(path.abspath('/Users/igor.koval/Documents/Work/RiemAlzh/src/utils/visu_toolbox'))\n",
    "\n",
    "from visu import Visu\n",
    "\n",
    "%matplotlib inline"
   ]
  },
  {
   "cell_type": "markdown",
   "metadata": {},
   "source": [
    "# Reading files"
   ]
  },
  {
   "cell_type": "code",
   "execution_count": 2,
   "metadata": {
    "collapsed": true
   },
   "outputs": [],
   "source": [
    "pop_parameters   = \"pop_params.txt\"\n",
    "indiv_parameters = \"indiv_params.txt\"\n",
    "observations = \"../input/MCIconvertAD/\""
   ]
  },
  {
   "cell_type": "markdown",
   "metadata": {},
   "source": [
    "# Loading the visualization"
   ]
  },
  {
   "cell_type": "code",
   "execution_count": 3,
   "metadata": {
    "collapsed": false
   },
   "outputs": [
    {
     "data": {
      "image/png": "[encoded data removed]",
      "text/plain": [
       "<matplotlib.figure.Figure at 0x1061e7150>"
      ]
     },
     "metadata": {},
     "output_type": "display_data"
    }
   ],
   "source": [
    "model = Visu(\"fast-network\", pop_parameters, indiv_parameters, observations)"
   ]
  },
  {
   "cell_type": "code",
   "execution_count": 4,
   "metadata": {
    "collapsed": false
   },
   "outputs": [
    {
     "data": {
      "text/plain": [
       "['delta', 'noise', 'nu', 'thickness']"
      ]
     },
     "execution_count": 4,
     "metadata": {},
     "output_type": "execute_result"
    }
   ],
   "source": [
    "model.print_population_params()"
   ]
  },
  {
   "cell_type": "code",
   "execution_count": 5,
   "metadata": {
    "collapsed": false
   },
   "outputs": [
    {
     "data": {
      "image/png": "[encoded data removed]",
      "text/plain": [
       "<matplotlib.figure.Figure at 0x11782a3d0>"
      ]
     },
     "metadata": {},
     "output_type": "display_data"
    }
   ],
   "source": [
    "model.hist(\"delta\", 50)"
   ]
  },
  {
   "cell_type": "code",
   "execution_count": 6,
   "metadata": {
    "collapsed": false
   },
   "outputs": [
    {
     "data": {
      "image/png": "[encoded data removed]",
      "text/plain": [
       "<matplotlib.figure.Figure at 0x11d769450>"
      ]
     },
     "metadata": {},
     "output_type": "display_data"
    }
   ],
   "source": [
    "model.hist(\"nu\", 50)"
   ]
  },
  {
   "cell_type": "code",
   "execution_count": 7,
   "metadata": {
    "collapsed": false
   },
   "outputs": [],
   "source": [
    "model.load_matlab_data('../input/matlab_data.mat')"
   ]
  },
  {
   "cell_type": "code",
   "execution_count": 8,
   "metadata": {
    "collapsed": true
   },
   "outputs": [],
   "source": [
    "model.compute_interpolation_matrices(16)"
   ]
  },
  {
   "cell_type": "code",
   "execution_count": 9,
   "metadata": {
    "collapsed": false
   },
   "outputs": [
    {
     "name": "stdout",
     "output_type": "stream",
     "text": [
      "(163842, 1) (327680, 3)\n"
     ]
    },
    {
     "ename": "TypeError",
     "evalue": "InsertNextTuple argument 1: expected a sequence of 1 value, got numpy.float64",
     "output_type": "error",
     "traceback": [
      "\u001b[0;31m---------------------------------------------------------------------------\u001b[0m",
      "\u001b[0;31mTypeError\u001b[0m                                 Traceback (most recent call last)",
      "\u001b[0;32m<ipython-input-9-e4200af0ee31>\u001b[0m in \u001b[0;36m<module>\u001b[0;34m()\u001b[0m\n\u001b[1;32m      1\u001b[0m \u001b[0msignals\u001b[0m \u001b[0;34m=\u001b[0m \u001b[0mmodel\u001b[0m\u001b[0;34m.\u001b[0m\u001b[0mcompute_signal\u001b[0m\u001b[0;34m(\u001b[0m\u001b[0;34m[\u001b[0m\u001b[0;36m65\u001b[0m\u001b[0;34m,\u001b[0m \u001b[0;36m70\u001b[0m\u001b[0;34m,\u001b[0m \u001b[0;36m75\u001b[0m\u001b[0;34m,\u001b[0m \u001b[0;36m80\u001b[0m \u001b[0;34m]\u001b[0m\u001b[0;34m,\u001b[0m \u001b[0;34m-\u001b[0m\u001b[0;36m1\u001b[0m\u001b[0;34m)\u001b[0m\u001b[0;34m\u001b[0m\u001b[0m\n\u001b[0;32m----> 2\u001b[0;31m \u001b[0mmodel\u001b[0m\u001b[0;34m.\u001b[0m\u001b[0mwrite_vtk\u001b[0m\u001b[0;34m(\u001b[0m\u001b[0msignals\u001b[0m\u001b[0;34m,\u001b[0m \u001b[0;34m'visu'\u001b[0m\u001b[0;34m)\u001b[0m\u001b[0;34m\u001b[0m\u001b[0m\n\u001b[0m",
      "\u001b[0;32m/Users/igor.koval/Documents/Work/RiemAlzh/src/utils/visu_toolbox/visu.pyc\u001b[0m in \u001b[0;36mwrite_vtk\u001b[0;34m(self, signals, file_name)\u001b[0m\n\u001b[1;32m     78\u001b[0m \u001b[0;34m\u001b[0m\u001b[0m\n\u001b[1;32m     79\u001b[0m     \u001b[0;32mdef\u001b[0m \u001b[0mwrite_vtk\u001b[0m\u001b[0;34m(\u001b[0m\u001b[0mself\u001b[0m\u001b[0;34m,\u001b[0m \u001b[0msignals\u001b[0m\u001b[0;34m,\u001b[0m \u001b[0mfile_name\u001b[0m\u001b[0;34m)\u001b[0m\u001b[0;34m:\u001b[0m\u001b[0;34m\u001b[0m\u001b[0m\n\u001b[0;32m---> 80\u001b[0;31m         \u001b[0mself\u001b[0m\u001b[0;34m.\u001b[0m\u001b[0mmodel\u001b[0m\u001b[0;34m.\u001b[0m\u001b[0mcompute_vtk\u001b[0m\u001b[0;34m(\u001b[0m\u001b[0msignals\u001b[0m\u001b[0;34m,\u001b[0m \u001b[0mfile_name\u001b[0m\u001b[0;34m)\u001b[0m\u001b[0;34m\u001b[0m\u001b[0m\n\u001b[0m",
      "\u001b[0;32m/Users/igor.koval/Documents/Work/RiemAlzh/src/utils/visu_toolbox/models/networks/fast_network.pyc\u001b[0m in \u001b[0;36mcompute_vtk\u001b[0;34m(self, signals, file_name)\u001b[0m\n\u001b[1;32m     48\u001b[0m     \u001b[0;32mdef\u001b[0m \u001b[0mcompute_vtk\u001b[0m\u001b[0;34m(\u001b[0m\u001b[0mself\u001b[0m\u001b[0;34m,\u001b[0m \u001b[0msignals\u001b[0m\u001b[0;34m,\u001b[0m \u001b[0mfile_name\u001b[0m\u001b[0;34m)\u001b[0m\u001b[0;34m:\u001b[0m\u001b[0;34m\u001b[0m\u001b[0m\n\u001b[1;32m     49\u001b[0m         \u001b[0;32mfor\u001b[0m \u001b[0midx\u001b[0m\u001b[0;34m,\u001b[0m \u001b[0ms\u001b[0m \u001b[0;32min\u001b[0m \u001b[0menumerate\u001b[0m\u001b[0;34m(\u001b[0m\u001b[0msignals\u001b[0m\u001b[0;34m)\u001b[0m\u001b[0;34m:\u001b[0m\u001b[0;34m\u001b[0m\u001b[0m\n\u001b[0;32m---> 50\u001b[0;31m             \u001b[0mwrite_vtk_file\u001b[0m\u001b[0;34m(\u001b[0m\u001b[0mself\u001b[0m\u001b[0;34m.\u001b[0m\u001b[0mdata_mesh\u001b[0m\u001b[0;34m,\u001b[0m \u001b[0ms\u001b[0m\u001b[0;34m,\u001b[0m \u001b[0mfile_name\u001b[0m \u001b[0;34m+\u001b[0m \u001b[0mstr\u001b[0m\u001b[0;34m(\u001b[0m\u001b[0midx\u001b[0m\u001b[0;34m)\u001b[0m\u001b[0;34m)\u001b[0m\u001b[0;34m\u001b[0m\u001b[0m\n\u001b[0m",
      "\u001b[0;32m/Users/igor.koval/Documents/Work/RiemAlzh/src/utils/visu_toolbox/models/networks/utils.py\u001b[0m in \u001b[0;36mwrite_vtk_file\u001b[0;34m(data_mesh, signal, file_name)\u001b[0m\n\u001b[1;32m     92\u001b[0m     \u001b[0;32mprint\u001b[0m \u001b[0moutput_signal\u001b[0m\u001b[0;34m.\u001b[0m\u001b[0mshape\u001b[0m\u001b[0;34m,\u001b[0m \u001b[0mmesh_polygones\u001b[0m\u001b[0;34m.\u001b[0m\u001b[0mshape\u001b[0m\u001b[0;34m\u001b[0m\u001b[0m\n\u001b[1;32m     93\u001b[0m     \u001b[0;32mfor\u001b[0m \u001b[0mi\u001b[0m\u001b[0;34m,\u001b[0m \u001b[0mcol\u001b[0m \u001b[0;32min\u001b[0m \u001b[0menumerate\u001b[0m\u001b[0;34m(\u001b[0m\u001b[0moutput_signal\u001b[0m\u001b[0;34m)\u001b[0m\u001b[0;34m:\u001b[0m\u001b[0;34m\u001b[0m\u001b[0m\n\u001b[0;32m---> 94\u001b[0;31m         \u001b[0mcolors\u001b[0m\u001b[0;34m.\u001b[0m\u001b[0mInsertNextTuple\u001b[0m\u001b[0;34m(\u001b[0m\u001b[0mcol\u001b[0m\u001b[0;34m[\u001b[0m\u001b[0;36m0\u001b[0m\u001b[0;34m]\u001b[0m\u001b[0;34m)\u001b[0m\u001b[0;34m\u001b[0m\u001b[0m\n\u001b[0m\u001b[1;32m     95\u001b[0m \u001b[0;34m\u001b[0m\u001b[0m\n\u001b[1;32m     96\u001b[0m \u001b[0;34m\u001b[0m\u001b[0m\n",
      "\u001b[0;31mTypeError\u001b[0m: InsertNextTuple argument 1: expected a sequence of 1 value, got numpy.float64"
     ]
    }
   ],
   "source": [
    "signals = model.compute_signal([65, 70, 75, 80 ], -1)\n",
    "model.write_vtk(signals, 'visu')"
   ]
  },
  {
   "cell_type": "code",
   "execution_count": null,
   "metadata": {
    "collapsed": true
   },
   "outputs": [],
   "source": []
  },
  {
   "cell_type": "code",
   "execution_count": null,
   "metadata": {
    "collapsed": true
   },
   "outputs": [],
   "source": []
  },
  {
   "cell_type": "code",
   "execution_count": null,
   "metadata": {
    "collapsed": true
   },
   "outputs": [],
   "source": []
  },
  {
   "cell_type": "code",
   "execution_count": null,
   "metadata": {
    "collapsed": true
   },
   "outputs": [],
   "source": []
  },
  {
   "cell_type": "code",
   "execution_count": 16,
   "metadata": {
    "collapsed": false
   },
   "outputs": [],
   "source": [
    "import scipy.io\n",
    "import numpy as np\n",
    "import vtk\n",
    "import matplotlib.pyplot as plt\n",
    "\n",
    "mat = scipy.io.loadmat('../input/matlab_data.mat')\n",
    "dist_mat = mat[\"DistMat\"]\n",
    "data_mesh = mat[\"data_mesh\"]\n",
    "mesh_points = data_mesh[\"pts_left\"][0][0]\n",
    "mesh_triangles = data_mesh[\"tri_left\"][0][0]\n",
    "ind_ctrl = np.hstack(mat[\"ind_ctrl\"]) - 1"
   ]
  },
  {
   "cell_type": "code",
   "execution_count": 13,
   "metadata": {
    "collapsed": false
   },
   "outputs": [
    {
     "data": {
      "text/plain": [
       "(1827,)"
      ]
     },
     "execution_count": 13,
     "metadata": {},
     "output_type": "execute_result"
    }
   ],
   "source": [
    "signals[0].shape"
   ]
  },
  {
   "cell_type": "code",
   "execution_count": 21,
   "metadata": {
    "collapsed": true
   },
   "outputs": [],
   "source": [
    "def convert_signal(signal, data_mesh):\n",
    "    indices = data_mesh[\"indices\"][0][0]\n",
    "    Q = data_mesh[\"Q\"][0][0]\n",
    "\n",
    "    output_signal = np.zeros((data_mesh[\"pts_left\"][0][0].shape[0], 1))\n",
    "\n",
    "    for i, idx in enumerate(indices):\n",
    "        OK = np.where(Q == idx)\n",
    "        output_signal[OK] = signal[i]\n",
    "\n",
    "    return output_signal"
   ]
  },
  {
   "cell_type": "code",
   "execution_count": 22,
   "metadata": {
    "collapsed": false
   },
   "outputs": [
    {
     "name": "stdout",
     "output_type": "stream",
     "text": [
      "(163842, 1) (327680, 3)\n"
     ]
    }
   ],
   "source": [
    "ok = write_vtk_file(data_mesh, signals[0], \"lol.vtp\")"
   ]
  },
  {
   "cell_type": "code",
   "execution_count": 20,
   "metadata": {
    "collapsed": true
   },
   "outputs": [],
   "source": [
    "def write_vtk_file(data_mesh, signal, file_name):\n",
    "\n",
    "    ### Initialize parameters\n",
    "    mesh_points = data_mesh[\"pts_left\"][0][0]\n",
    "    mesh_polygones = data_mesh[\"tri_left\"][0][0]\n",
    "    nb_points, dimension = mesh_points.shape\n",
    "    nb_polygones, polygone_dimensions = mesh_polygones.shape\n",
    "    # TODO : Assert : dimension should be 3\n",
    "    # TODO : Assert : POints not empty\n",
    "    # TODO : Assert : Polygone dimension\n",
    "    # TODO : Assert : polygone not empty\n",
    "\n",
    "\n",
    "    ### Initialize the output file\n",
    "    points = vtk.vtkPoints()\n",
    "    vectices = vtk.vtkCellArray()\n",
    "\n",
    "    ### Write the points coordinate\n",
    "    for pt in mesh_points:\n",
    "        points.InsertNextPoint((pt[0], pt[1], pt[2]))\n",
    "\n",
    "    ### Write the triangles\n",
    "    for pl in mesh_polygones:\n",
    "        triangle = vtk.vtkTriangle()\n",
    "        triangle.GetPointIds().SetId(0, pl[0]-1)\n",
    "        triangle.GetPointIds().SetId(1, pl[1]-1)\n",
    "        triangle.GetPointIds().SetId(2, pl[2]-1)\n",
    "        vectices.InsertNextCell(triangle)\n",
    "\n",
    "    ### Set up the mesh\n",
    "    polydata = vtk.vtkPolyData()\n",
    "    polydata.SetPoints(points)\n",
    "    polydata.SetPolys(vectices)\n",
    "\n",
    "    ### Set up the colors\n",
    "    colors = vtk.vtkDoubleArray()\n",
    "    colors.SetNumberOfComponents(1)\n",
    "    colors.SetName(\"Scalars\")\n",
    "\n",
    "    output_signal = convert_signal(signal, data_mesh)\n",
    "\n",
    "    cm = plt.get_cmap('jet')\n",
    "    print output_signal.shape, mesh_polygones.shape\n",
    "    for i, col in enumerate(output_signal):\n",
    "        colors.InsertNextTuple(col)\n",
    "\n",
    "\n",
    "    polydata.GetPointData().AddArray(colors)\n",
    "    polydata.GetPointData().SetActiveVectors(colors.GetName())\n",
    "    polydata.Modified()\n",
    "\n",
    "    #### Write the file\n",
    "    if vtk.VTK_MAJOR_VERSION <= 5:\n",
    "        polydata.Update()\n",
    "\n",
    "    writer = vtk.vtkXMLPolyDataWriter()\n",
    "    writer.SetFileName(file_name)\n",
    "    if vtk.VTK_MAJOR_VERSION <= 5:\n",
    "        writer.SetInput(polydata)\n",
    "    else:\n",
    "        writer.SetInputData(polydata)\n",
    "\n",
    "    writer.Write()\n"
   ]
  },
  {
   "cell_type": "code",
   "execution_count": null,
   "metadata": {
    "collapsed": true
   },
   "outputs": [],
   "source": []
  }
 ],
 "metadata": {
  "anaconda-cloud": {},
  "kernelspec": {
   "display_name": "Python [Root]",
   "language": "python",
   "name": "Python [Root]"
  },
  "language_info": {
   "codemirror_mode": {
    "name": "ipython",
    "version": 2
   },
   "file_extension": ".py",
   "mimetype": "text/x-python",
   "name": "python",
   "nbconvert_exporter": "python",
   "pygments_lexer": "ipython2",
   "version": "2.7.10"
  }
 },
 "nbformat": 4,
 "nbformat_minor": 0
}
